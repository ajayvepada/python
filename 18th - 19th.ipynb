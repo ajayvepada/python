{
 "cells": [
  {
   "cell_type": "code",
   "execution_count": null,
   "id": "ea3649cc",
   "metadata": {},
   "outputs": [
    {
     "ename": "",
     "evalue": "",
     "output_type": "error",
     "traceback": [
      "\u001b[1;31mThe kernel failed to start as 'Template' could not be imported from 'c:\\Users\\vepad\\OneDrive\\Desktop\\Documents\\Pictures\\Desktop\\Python\\string.py'.\n",
      "\u001b[1;31mClick <a href='https://aka.ms/kernelFailuresModuleImportErrFromFile'>here</a> for more info."
     ]
    }
   ],
   "source": [
    "a = 10\n",
    "b = 20\n",
    "print(a,b)"
   ]
  },
  {
   "cell_type": "code",
   "execution_count": null,
   "id": "d849a969",
   "metadata": {},
   "outputs": [],
   "source": [
    "print(a)\n",
    "print(b)"
   ]
  },
  {
   "cell_type": "code",
   "execution_count": null,
   "id": "fac51d85",
   "metadata": {},
   "outputs": [],
   "source": [
    "print('python')\n",
    "print('python',10,20)\n",
    "print('python',a,b)"
   ]
  },
  {
   "cell_type": "code",
   "execution_count": null,
   "id": "d036608d",
   "metadata": {},
   "outputs": [],
   "source": [
    "num1=20\n",
    "num2=40\n",
    "add=num1+num2\n",
    "print(add)"
   ]
  },
  {
   "cell_type": "code",
   "execution_count": null,
   "id": "58bdb2f7",
   "metadata": {},
   "outputs": [],
   "source": [
    "#print result with string\n",
    "print(\"the addition of\",num1,\"and\",num2,\" is\",add)\n",
    "print('the addition of{} and {} is {}'.format(num1,num2,add))#using formatting"
   ]
  },
  {
   "cell_type": "code",
   "execution_count": null,
   "id": "37d5dd0a",
   "metadata": {},
   "outputs": [],
   "source": [
    "name='python'\n",
    "age=21\n",
    "city='hyd'\n",
    "print('hell my name is{} and i am {} years old form {}'.format(name,age,city))#using formatting"
   ]
  },
  {
   "cell_type": "code",
   "execution_count": null,
   "id": "5ca79011",
   "metadata": {},
   "outputs": [],
   "source": [
    "Name='ajay'\n",
    "Age=21\n",
    "village='Anakapalle'\n",
    "print('Name')\n",
    "print('Age')\n",
    "print('village')\n",
    "#using formatting\n",
    "print(\"hi my name is {} and i am {} years old from {}\".format(Name,Age,village))"
   ]
  },
  {
   "cell_type": "code",
   "execution_count": null,
   "id": "d8204546",
   "metadata": {},
   "outputs": [],
   "source": [
    "num1=40\n",
    "num2=60\n",
    "num3=89\n",
    "avg=(num1+num2+num3)/3# return the 'average' of three numbers\n",
    "print(avg)\n",
    "avg1=round((num1+num2+num3)/3,2)\n",
    "print(avg1)\n",
    "#using formatting\n",
    "print('The average of {}, {}, and {} is= {} or {}'.format(num1,num2,num3,avg,avg1))\n",
    "print(f'The average of {num1}, {num2}, and {num3} is= {avg} or {avg1}'.format(num1,num2,num3,avg,avg1))"
   ]
  },
  {
   "cell_type": "code",
   "execution_count": null,
   "id": "c57cf252",
   "metadata": {},
   "outputs": [],
   "source": [
    "round(avg,2)"
   ]
  },
  {
   "cell_type": "code",
   "execution_count": null,
   "id": "0008a2ee",
   "metadata": {},
   "outputs": [],
   "source": []
  }
 ],
 "metadata": {
  "kernelspec": {
   "display_name": "base",
   "language": "python",
   "name": "python3"
  },
  "language_info": {
   "codemirror_mode": {
    "name": "ipython",
    "version": 3
   },
   "file_extension": ".py",
   "mimetype": "text/x-python",
   "name": "python",
   "nbconvert_exporter": "python",
   "pygments_lexer": "ipython3",
   "version": "3.12.7"
  }
 },
 "nbformat": 4,
 "nbformat_minor": 5
}
