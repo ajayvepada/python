{
 "cells": [
  {
   "cell_type": "code",
   "execution_count": 280,
   "id": "0900f7ec",
   "metadata": {},
   "outputs": [
    {
     "name": "stdout",
     "output_type": "stream",
     "text": [
      "<class 'list'>\n"
     ]
    }
   ],
   "source": [
    "list1 = []#Empty list\n",
    "print(type(list1))"
   ]
  },
  {
   "cell_type": "code",
   "execution_count": 281,
   "id": "b47aa595",
   "metadata": {},
   "outputs": [
    {
     "data": {
      "text/plain": [
       "[10, 20, 30, 40]"
      ]
     },
     "execution_count": 281,
     "metadata": {},
     "output_type": "execute_result"
    }
   ],
   "source": [
    "list2 = [10,20,30,40]# list2 of integer number\n",
    "list2"
   ]
  },
  {
   "cell_type": "code",
   "execution_count": 282,
   "id": "59513c8d",
   "metadata": {},
   "outputs": [
    {
     "data": {
      "text/plain": [
       "['one', 'two', 'three', 'four']"
      ]
     },
     "execution_count": 282,
     "metadata": {},
     "output_type": "execute_result"
    }
   ],
   "source": [
    "list3 = ['one','two','three','four']\n",
    "list3"
   ]
  },
  {
   "cell_type": "code",
   "execution_count": 283,
   "id": "30609720",
   "metadata": {},
   "outputs": [
    {
     "data": {
      "text/plain": [
       "4"
      ]
     },
     "execution_count": 283,
     "metadata": {},
     "output_type": "execute_result"
    }
   ],
   "source": [
    "len(list3)# retrive the length of list2"
   ]
  },
  {
   "cell_type": "code",
   "execution_count": 284,
   "id": "c37bfa66",
   "metadata": {},
   "outputs": [
    {
     "data": {
      "text/plain": [
       "[10, 20, 30, 40]"
      ]
     },
     "execution_count": 284,
     "metadata": {},
     "output_type": "execute_result"
    }
   ],
   "source": [
    "list2"
   ]
  },
  {
   "cell_type": "code",
   "execution_count": 285,
   "id": "dafceb5e",
   "metadata": {},
   "outputs": [
    {
     "data": {
      "text/plain": [
       "[10, 20, 30, 40, 50]"
      ]
     },
     "execution_count": 285,
     "metadata": {},
     "output_type": "execute_result"
    }
   ],
   "source": [
    "list2.append(50)# use'append' add the value of list2 at the end\n",
    "list2"
   ]
  },
  {
   "cell_type": "code",
   "execution_count": 286,
   "id": "6d56e788",
   "metadata": {},
   "outputs": [
    {
     "data": {
      "text/plain": [
       "[10, 20, 30, 40, 50]"
      ]
     },
     "execution_count": 286,
     "metadata": {},
     "output_type": "execute_result"
    }
   ],
   "source": [
    "list2.count(30)# number of times occures '30' in the list2\n",
    "list2"
   ]
  },
  {
   "cell_type": "code",
   "execution_count": 287,
   "id": "bb47b193",
   "metadata": {},
   "outputs": [
    {
     "data": {
      "text/plain": [
       "[10, 20, 25, 30, 40, 50]"
      ]
     },
     "execution_count": 287,
     "metadata": {},
     "output_type": "execute_result"
    }
   ],
   "source": [
    "list2.insert(2,25)# add item index of'2'  of list2 \n",
    "list2"
   ]
  },
  {
   "cell_type": "code",
   "execution_count": 288,
   "id": "2ad7d565",
   "metadata": {},
   "outputs": [
    {
     "data": {
      "text/plain": [
       "3"
      ]
     },
     "execution_count": 288,
     "metadata": {},
     "output_type": "execute_result"
    }
   ],
   "source": [
    "list2.index(30)# return the index of '30' of list2\n"
   ]
  },
  {
   "cell_type": "code",
   "execution_count": 289,
   "id": "c11fc280",
   "metadata": {},
   "outputs": [
    {
     "data": {
      "text/plain": [
       "40"
      ]
     },
     "execution_count": 289,
     "metadata": {},
     "output_type": "execute_result"
    }
   ],
   "source": [
    "list2[4]"
   ]
  },
  {
   "cell_type": "code",
   "execution_count": 290,
   "id": "4c56b3a6",
   "metadata": {},
   "outputs": [
    {
     "data": {
      "text/plain": [
       "[10, 20, 25, 30, 40, 50]"
      ]
     },
     "execution_count": 290,
     "metadata": {},
     "output_type": "execute_result"
    }
   ],
   "source": [
    "list2\n"
   ]
  },
  {
   "cell_type": "code",
   "execution_count": 291,
   "id": "1c86a323",
   "metadata": {},
   "outputs": [
    {
     "data": {
      "text/plain": [
       "[10, 20, 25, 40, 50]"
      ]
     },
     "execution_count": 291,
     "metadata": {},
     "output_type": "execute_result"
    }
   ],
   "source": [
    "list2.remove(30)# remove the  item '30'of list2\n",
    "list2"
   ]
  },
  {
   "cell_type": "code",
   "execution_count": 292,
   "id": "d1825183",
   "metadata": {},
   "outputs": [
    {
     "data": {
      "text/plain": [
       "[10, 20, 25, 40]"
      ]
     },
     "execution_count": 292,
     "metadata": {},
     "output_type": "execute_result"
    }
   ],
   "source": [
    "list2.pop()# use 'pop()' function it remove end item of list\n",
    "list2"
   ]
  },
  {
   "cell_type": "code",
   "execution_count": 293,
   "id": "94205be3",
   "metadata": {},
   "outputs": [
    {
     "data": {
      "text/plain": [
       "[40, 25, 20, 10]"
      ]
     },
     "execution_count": 293,
     "metadata": {},
     "output_type": "execute_result"
    }
   ],
   "source": [
    "list2.reverse()# return the list2 in 'reverse'\n",
    "list2"
   ]
  },
  {
   "cell_type": "code",
   "execution_count": 294,
   "id": "7695b6d6",
   "metadata": {},
   "outputs": [
    {
     "data": {
      "text/plain": [
       "[10, 20, 25, 40]"
      ]
     },
     "execution_count": 294,
     "metadata": {},
     "output_type": "execute_result"
    }
   ],
   "source": [
    "list2.sort()# return items in ascending order of list2\n",
    "list2"
   ]
  },
  {
   "cell_type": "code",
   "execution_count": 295,
   "id": "e3c4b871",
   "metadata": {},
   "outputs": [
    {
     "data": {
      "text/plain": [
       "[10, 20, 25, 40, 'one', 'two', 'three', 'four']"
      ]
     },
     "execution_count": 295,
     "metadata": {},
     "output_type": "execute_result"
    }
   ],
   "source": [
    "list2.extend(list3)#list3 is add to list2\n",
    "list2"
   ]
  },
  {
   "cell_type": "code",
   "execution_count": 296,
   "id": "b10293e7",
   "metadata": {},
   "outputs": [
    {
     "data": {
      "text/plain": [
       "[]"
      ]
     },
     "execution_count": 296,
     "metadata": {},
     "output_type": "execute_result"
    }
   ],
   "source": [
    "list2.clear()#delete the allitems in list2\n",
    "list2"
   ]
  },
  {
   "cell_type": "code",
   "execution_count": 297,
   "id": "f0ba4013",
   "metadata": {},
   "outputs": [
    {
     "data": {
      "text/plain": [
       "[]"
      ]
     },
     "execution_count": 297,
     "metadata": {},
     "output_type": "execute_result"
    }
   ],
   "source": [
    "list2"
   ]
  },
  {
   "cell_type": "code",
   "execution_count": 298,
   "id": "75092e32",
   "metadata": {},
   "outputs": [
    {
     "data": {
      "text/plain": [
       "['one', 'two', 'three', 'four']"
      ]
     },
     "execution_count": 298,
     "metadata": {},
     "output_type": "execute_result"
    }
   ],
   "source": [
    "list3"
   ]
  },
  {
   "cell_type": "code",
   "execution_count": 299,
   "id": "0c907801",
   "metadata": {},
   "outputs": [
    {
     "data": {
      "text/plain": [
       "1495235208512"
      ]
     },
     "execution_count": 299,
     "metadata": {},
     "output_type": "execute_result"
    }
   ],
   "source": [
    "id(list3)# use 'id' function memory of list"
   ]
  },
  {
   "cell_type": "code",
   "execution_count": 300,
   "id": "b9f15301",
   "metadata": {},
   "outputs": [
    {
     "data": {
      "text/plain": [
       "['one', 'two', 'three', 'four']"
      ]
     },
     "execution_count": 300,
     "metadata": {},
     "output_type": "execute_result"
    }
   ],
   "source": [
    "list2 = list3.copy()# list3 items is add in list2\n",
    "list2"
   ]
  },
  {
   "cell_type": "code",
   "execution_count": 301,
   "id": "53f1afc7",
   "metadata": {},
   "outputs": [
    {
     "data": {
      "text/plain": [
       "['one', 'two', 'three', 'four']"
      ]
     },
     "execution_count": 301,
     "metadata": {},
     "output_type": "execute_result"
    }
   ],
   "source": [
    "list2"
   ]
  },
  {
   "cell_type": "code",
   "execution_count": 302,
   "id": "14a092b6",
   "metadata": {},
   "outputs": [
    {
     "data": {
      "text/plain": [
       "['one', 'two', 'three', 'four', 'one', 'two', 'three', 'four']"
      ]
     },
     "execution_count": 302,
     "metadata": {},
     "output_type": "execute_result"
    }
   ],
   "source": [
    "list2.extend(list3)\n",
    "list2"
   ]
  },
  {
   "cell_type": "code",
   "execution_count": 303,
   "id": "d039af4d",
   "metadata": {},
   "outputs": [
    {
     "data": {
      "text/plain": [
       "[2.3, 3.4, 5.4]"
      ]
     },
     "execution_count": 303,
     "metadata": {},
     "output_type": "execute_result"
    }
   ],
   "source": [
    "list4 = [2.3,3.4,5.4]\n",
    "list4"
   ]
  },
  {
   "cell_type": "code",
   "execution_count": 304,
   "id": "d88f781b",
   "metadata": {},
   "outputs": [
    {
     "data": {
      "text/plain": [
       "[2.3, 3.4, 5.4, 'one', 'two', 'three', 'four', 'one', 'two', 'three', 'four']"
      ]
     },
     "execution_count": 304,
     "metadata": {},
     "output_type": "execute_result"
    }
   ],
   "source": [
    "list4.extend(list2)\n",
    "list4"
   ]
  },
  {
   "cell_type": "code",
   "execution_count": 305,
   "id": "cb160104",
   "metadata": {},
   "outputs": [
    {
     "data": {
      "text/plain": [
       "['one', 'two', 'three', 'four', 'one', 'two', 'three', 'four']"
      ]
     },
     "execution_count": 305,
     "metadata": {},
     "output_type": "execute_result"
    }
   ],
   "source": [
    "list2"
   ]
  },
  {
   "cell_type": "code",
   "execution_count": 306,
   "id": "8754c3ff",
   "metadata": {},
   "outputs": [
    {
     "data": {
      "text/plain": [
       "['one', 'two', 'three', 'four']"
      ]
     },
     "execution_count": 306,
     "metadata": {},
     "output_type": "execute_result"
    }
   ],
   "source": [
    "list3"
   ]
  },
  {
   "cell_type": "code",
   "execution_count": 307,
   "id": "65bf15b0",
   "metadata": {},
   "outputs": [
    {
     "data": {
      "text/plain": [
       "[1, 2, 3, 4]"
      ]
     },
     "execution_count": 307,
     "metadata": {},
     "output_type": "execute_result"
    }
   ],
   "source": [
    "list6 = [1,2,3,4]\n",
    "list6"
   ]
  },
  {
   "cell_type": "code",
   "execution_count": 308,
   "id": "9222a880",
   "metadata": {},
   "outputs": [
    {
     "data": {
      "text/plain": [
       "[1, 2, 3, 4, 'one', 'two', 'three', 'four']"
      ]
     },
     "execution_count": 308,
     "metadata": {},
     "output_type": "execute_result"
    }
   ],
   "source": [
    "list7 = list6 + list3 # joint list\n",
    "list7"
   ]
  },
  {
   "cell_type": "code",
   "execution_count": 309,
   "id": "487363b8",
   "metadata": {},
   "outputs": [
    {
     "data": {
      "text/plain": [
       "True"
      ]
     },
     "execution_count": 309,
     "metadata": {},
     "output_type": "execute_result"
    }
   ],
   "source": [
    "1 in list7 # check '1' is in the list or not"
   ]
  },
  {
   "cell_type": "code",
   "execution_count": 310,
   "id": "036168be",
   "metadata": {},
   "outputs": [
    {
     "data": {
      "text/plain": [
       "True"
      ]
     },
     "execution_count": 310,
     "metadata": {},
     "output_type": "execute_result"
    }
   ],
   "source": [
    "'one' in list7# checking 'one' is in list7 or not"
   ]
  },
  {
   "cell_type": "code",
   "execution_count": 311,
   "id": "9331754c",
   "metadata": {},
   "outputs": [
    {
     "data": {
      "text/plain": [
       "False"
      ]
     },
     "execution_count": 311,
     "metadata": {},
     "output_type": "execute_result"
    }
   ],
   "source": [
    "'five' in list7"
   ]
  },
  {
   "cell_type": "code",
   "execution_count": 312,
   "id": "bef2b479",
   "metadata": {},
   "outputs": [
    {
     "data": {
      "text/plain": [
       "[1, 2, 3, 4, 'one', 'two', 'three', 'four']"
      ]
     },
     "execution_count": 312,
     "metadata": {},
     "output_type": "execute_result"
    }
   ],
   "source": [
    "\n",
    "list7\n"
   ]
  },
  {
   "cell_type": "code",
   "execution_count": 313,
   "id": "069d4215",
   "metadata": {},
   "outputs": [
    {
     "data": {
      "text/plain": [
       "[1, 2, 3, 4, 'one', 'two', 'three', 'four']"
      ]
     },
     "execution_count": 313,
     "metadata": {},
     "output_type": "execute_result"
    }
   ],
   "source": [
    "list7.count(3)\n",
    "list7"
   ]
  },
  {
   "cell_type": "code",
   "execution_count": 314,
   "id": "73ed9323",
   "metadata": {},
   "outputs": [
    {
     "data": {
      "text/plain": [
       "[2.3, 3.4, 5.4, 'one', 'two', 'three', 'four', 'one', 'two', 'three', 'four']"
      ]
     },
     "execution_count": 314,
     "metadata": {},
     "output_type": "execute_result"
    }
   ],
   "source": [
    "list4"
   ]
  },
  {
   "cell_type": "code",
   "execution_count": 315,
   "id": "3f788340",
   "metadata": {},
   "outputs": [
    {
     "data": {
      "text/plain": [
       "[1, 2, 3, 4]"
      ]
     },
     "execution_count": 315,
     "metadata": {},
     "output_type": "execute_result"
    }
   ],
   "source": [
    "list6"
   ]
  },
  {
   "cell_type": "code",
   "execution_count": 316,
   "id": "ec77a524",
   "metadata": {},
   "outputs": [
    {
     "data": {
      "text/plain": [
       "1"
      ]
     },
     "execution_count": 316,
     "metadata": {},
     "output_type": "execute_result"
    }
   ],
   "source": [
    "list6.count(3)\n"
   ]
  },
  {
   "cell_type": "code",
   "execution_count": 317,
   "id": "b7a53f72",
   "metadata": {},
   "outputs": [
    {
     "data": {
      "text/plain": [
       "1"
      ]
     },
     "execution_count": 317,
     "metadata": {},
     "output_type": "execute_result"
    }
   ],
   "source": [
    "list7.count(4)"
   ]
  },
  {
   "cell_type": "code",
   "execution_count": 318,
   "id": "3e42f3a3",
   "metadata": {},
   "outputs": [
    {
     "data": {
      "text/plain": [
       "[1, 2, 3, 4, 'one', 'two', 'three']"
      ]
     },
     "execution_count": 318,
     "metadata": {},
     "output_type": "execute_result"
    }
   ],
   "source": [
    "list7[0:7]#return the  0th to 7th index location of excluding of item"
   ]
  },
  {
   "cell_type": "code",
   "execution_count": 319,
   "id": "60e46c27",
   "metadata": {},
   "outputs": [
    {
     "data": {
      "text/plain": [
       "[]"
      ]
     },
     "execution_count": 319,
     "metadata": {},
     "output_type": "execute_result"
    }
   ],
   "source": [
    "list7[0:-8]"
   ]
  },
  {
   "cell_type": "code",
   "execution_count": 320,
   "id": "78b8646f",
   "metadata": {},
   "outputs": [
    {
     "data": {
      "text/plain": [
       "['one', 'two', 'three', 'four']"
      ]
     },
     "execution_count": 320,
     "metadata": {},
     "output_type": "execute_result"
    }
   ],
   "source": [
    "list7[4:]#return 4th index to upto end item of list7"
   ]
  },
  {
   "cell_type": "code",
   "execution_count": 321,
   "id": "ddac789b",
   "metadata": {},
   "outputs": [
    {
     "data": {
      "text/plain": [
       "[1, 2, 3, 4, 'one', 'two', 'three', 'four']"
      ]
     },
     "execution_count": 321,
     "metadata": {},
     "output_type": "execute_result"
    }
   ],
   "source": [
    "#All and Any\n",
    "list7"
   ]
  },
  {
   "cell_type": "code",
   "execution_count": 322,
   "id": "c3d167ee",
   "metadata": {},
   "outputs": [
    {
     "data": {
      "text/plain": [
       "True"
      ]
     },
     "execution_count": 322,
     "metadata": {},
     "output_type": "execute_result"
    }
   ],
   "source": [
    "all(list7)"
   ]
  },
  {
   "cell_type": "code",
   "execution_count": 323,
   "id": "d2c32c1b",
   "metadata": {},
   "outputs": [
    {
     "data": {
      "text/plain": [
       "True"
      ]
     },
     "execution_count": 323,
     "metadata": {},
     "output_type": "execute_result"
    }
   ],
   "source": [
    "any(list7)"
   ]
  },
  {
   "cell_type": "code",
   "execution_count": 324,
   "id": "0d19111a",
   "metadata": {},
   "outputs": [
    {
     "data": {
      "text/plain": [
       "True"
      ]
     },
     "execution_count": 324,
     "metadata": {},
     "output_type": "execute_result"
    }
   ],
   "source": [
    "all(list2)"
   ]
  },
  {
   "cell_type": "code",
   "execution_count": 325,
   "id": "ee21e2a8",
   "metadata": {},
   "outputs": [
    {
     "data": {
      "text/plain": [
       "True"
      ]
     },
     "execution_count": 325,
     "metadata": {},
     "output_type": "execute_result"
    }
   ],
   "source": [
    "any(list2)"
   ]
  },
  {
   "cell_type": "code",
   "execution_count": 326,
   "id": "04d22513",
   "metadata": {},
   "outputs": [
    {
     "data": {
      "text/plain": [
       "[1, 2, 3, 4, 'one', 'two', 'three', 'four']"
      ]
     },
     "execution_count": 326,
     "metadata": {},
     "output_type": "execute_result"
    }
   ],
   "source": [
    "list7"
   ]
  },
  {
   "cell_type": "code",
   "execution_count": 327,
   "id": "306030fa",
   "metadata": {},
   "outputs": [
    {
     "data": {
      "text/plain": [
       "1495253557376"
      ]
     },
     "execution_count": 327,
     "metadata": {},
     "output_type": "execute_result"
    }
   ],
   "source": [
    "id(list2)"
   ]
  },
  {
   "cell_type": "code",
   "execution_count": 328,
   "id": "4e2ba453",
   "metadata": {},
   "outputs": [
    {
     "data": {
      "text/plain": [
       "1495253565632"
      ]
     },
     "execution_count": 328,
     "metadata": {},
     "output_type": "execute_result"
    }
   ],
   "source": [
    "id(list7)"
   ]
  },
  {
   "cell_type": "code",
   "execution_count": 329,
   "id": "3f203558",
   "metadata": {},
   "outputs": [
    {
     "data": {
      "text/plain": [
       "False"
      ]
     },
     "execution_count": 329,
     "metadata": {},
     "output_type": "execute_result"
    }
   ],
   "source": [
    "id(list2)==id(list7)"
   ]
  },
  {
   "cell_type": "code",
   "execution_count": 330,
   "id": "7056a10f",
   "metadata": {},
   "outputs": [],
   "source": [
    "del list7 # it is delete whole list7"
   ]
  },
  {
   "cell_type": "code",
   "execution_count": null,
   "id": "f4d440ee",
   "metadata": {},
   "outputs": [],
   "source": []
  }
 ],
 "metadata": {
  "kernelspec": {
   "display_name": "base",
   "language": "python",
   "name": "python3"
  },
  "language_info": {
   "codemirror_mode": {
    "name": "ipython",
    "version": 3
   },
   "file_extension": ".py",
   "mimetype": "text/x-python",
   "name": "python",
   "nbconvert_exporter": "python",
   "pygments_lexer": "ipython3",
   "version": "3.12.7"
  }
 },
 "nbformat": 4,
 "nbformat_minor": 5
}
