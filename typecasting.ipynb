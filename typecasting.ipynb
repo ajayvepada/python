{
 "cells": [
  {
   "cell_type": "code",
   "execution_count": null,
   "id": "3be45408",
   "metadata": {},
   "outputs": [
    {
     "ename": "",
     "evalue": "",
     "output_type": "error",
     "traceback": [
      "\u001b[1;31mThe file 'string.py' seems to be overriding built in modules and interfering with the startup of the kernel. Consider renaming the file and starting the kernel again.\n",
      "\u001b[1;31mClick <a href='https://aka.ms/kernelFailuresOverridingBuiltInModules'>here</a> for more info."
     ]
    }
   ],
   "source": [
    "# operators\n",
    "print(3+3)#addition\n",
    "print(99-100)#subtraction\n",
    "print(12*11)#multiplication\n",
    "print(9/3)#division\n",
    "print(3//2)#floor division\n",
    "print(3%2)#modulus\n",
    "print(3**3)#exponenital"
   ]
  },
  {
   "cell_type": "code",
   "execution_count": null,
   "id": "8d424ca8",
   "metadata": {},
   "outputs": [
    {
     "ename": "",
     "evalue": "",
     "output_type": "error",
     "traceback": [
      "\u001b[1;31mThe file 'string.py' seems to be overriding built in modules and interfering with the startup of the kernel. Consider renaming the file and starting the kernel again.\n",
      "\u001b[1;31mClick <a href='https://aka.ms/kernelFailuresOverridingBuiltInModules'>here</a> for more info."
     ]
    }
   ],
   "source": [
    "#cheking data type\n",
    "a = 10\n",
    "print(type(10))\n",
    "b = \"Ajay\"\n",
    "print(type(\"Ajay\"))\n",
    "c = 3.14\n",
    "print(type(3.14))\n",
    "d = 2+3j\n",
    "print(type(2+3j))\n",
    "e = [10,20,30,40]\n",
    "print(type([10,20,30,40]))\n",
    "f = {20,30,40}\n",
    "print(type({20,30,40}))\n",
    "g = (2,3,5)\n",
    "print(type((2,3,5)))\n",
    "h = True\n",
    "print(type(True))\n",
    "i = {\"name\":\"ajay\"}\n",
    "print(type({\"name\":\"ajay\"}))"
   ]
  },
  {
   "cell_type": "code",
   "execution_count": null,
   "id": "75d8817c",
   "metadata": {},
   "outputs": [],
   "source": [
    "\"hello\".startswith(\"he\") "
   ]
  },
  {
   "cell_type": "code",
   "execution_count": null,
   "id": "486d7804",
   "metadata": {},
   "outputs": [
    {
     "ename": "",
     "evalue": "",
     "output_type": "error",
     "traceback": [
      "\u001b[1;31mThe file 'string.py' seems to be overriding built in modules and interfering with the startup of the kernel. Consider renaming the file and starting the kernel again.\n",
      "\u001b[1;31mClick <a href='https://aka.ms/kernelFailuresOverridingBuiltInModules'>here</a> for more info."
     ]
    }
   ],
   "source": [
    "print(dir(__builtins__))"
   ]
  },
  {
   "cell_type": "code",
   "execution_count": null,
   "id": "645469c4",
   "metadata": {},
   "outputs": [],
   "source": []
  }
 ],
 "metadata": {
  "kernelspec": {
   "display_name": "base",
   "language": "python",
   "name": "python3"
  },
  "language_info": {
   "codemirror_mode": {
    "name": "ipython",
    "version": 3
   },
   "file_extension": ".py",
   "mimetype": "text/x-python",
   "name": "python",
   "nbconvert_exporter": "python",
   "pygments_lexer": "ipython3",
   "version": "3.12.7"
  }
 },
 "nbformat": 4,
 "nbformat_minor": 5
}
