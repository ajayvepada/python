{
 "cells": [
  {
   "cell_type": "code",
   "execution_count": 1,
   "id": "d495bc51-29be-4150-baf3-b7e05ff1de43",
   "metadata": {},
   "outputs": [
    {
     "data": {
      "text/plain": [
       "6"
      ]
     },
     "execution_count": 1,
     "metadata": {},
     "output_type": "execute_result"
    }
   ],
   "source": [
    "3+3"
   ]
  },
  {
   "cell_type": "code",
   "execution_count": 2,
   "id": "6acf1af5-8bb2-4946-98ff-5f4672d4c783",
   "metadata": {},
   "outputs": [
    {
     "data": {
      "text/plain": [
       "0"
      ]
     },
     "execution_count": 2,
     "metadata": {},
     "output_type": "execute_result"
    }
   ],
   "source": [
    "3-3"
   ]
  },
  {
   "cell_type": "code",
   "execution_count": 3,
   "id": "18351c31-2f71-4da5-a090-bc436c2379c1",
   "metadata": {},
   "outputs": [
    {
     "data": {
      "text/plain": [
       "16"
      ]
     },
     "execution_count": 3,
     "metadata": {},
     "output_type": "execute_result"
    }
   ],
   "source": [
    "4*4"
   ]
  },
  {
   "cell_type": "code",
   "execution_count": 6,
   "id": "c020c730-1811-45bd-9b84-7fadfcf9bddb",
   "metadata": {},
   "outputs": [
    {
     "data": {
      "text/plain": [
       "1.0"
      ]
     },
     "execution_count": 6,
     "metadata": {},
     "output_type": "execute_result"
    }
   ],
   "source": [
    "4/4 # division always return in float value"
   ]
  },
  {
   "cell_type": "code",
   "execution_count": 100,
   "id": "03fd748b-7fb1-4378-9723-13720876a9a4",
   "metadata": {},
   "outputs": [
    {
     "data": {
      "text/plain": [
       "5"
      ]
     },
     "execution_count": 100,
     "metadata": {},
     "output_type": "execute_result"
    }
   ],
   "source": [
    "30//6 # floor division return discard of  factronial part"
   ]
  },
  {
   "cell_type": "code",
   "execution_count": 101,
   "id": "97d3df1a-7edf-4481-acb6-80abca3698bc",
   "metadata": {},
   "outputs": [
    {
     "data": {
      "text/plain": [
       "2"
      ]
     },
     "execution_count": 101,
     "metadata": {},
     "output_type": "execute_result"
    }
   ],
   "source": [
    "17%3 # % represent the remainder of division "
   ]
  },
  {
   "cell_type": "code",
   "execution_count": 102,
   "id": "f32be6fe-7d8a-43d5-a7e2-bce4f83a6a6c",
   "metadata": {},
   "outputs": [
    {
     "data": {
      "text/plain": [
       "7"
      ]
     },
     "execution_count": 102,
     "metadata": {},
     "output_type": "execute_result"
    }
   ],
   "source": [
    "6*+2-5"
   ]
  },
  {
   "cell_type": "code",
   "execution_count": 103,
   "id": "738d1bfb-7d88-4fa2-bc4a-49c362d123ee",
   "metadata": {},
   "outputs": [
    {
     "data": {
      "text/plain": [
       "49"
      ]
     },
     "execution_count": 103,
     "metadata": {},
     "output_type": "execute_result"
    }
   ],
   "source": [
    "7**2"
   ]
  },
  {
   "cell_type": "code",
   "execution_count": 104,
   "id": "5132fff4-936b-447b-b64d-53898995943d",
   "metadata": {},
   "outputs": [
    {
     "name": "stdout",
     "output_type": "stream",
     "text": [
      "55\n"
     ]
    }
   ],
   "source": [
    "height = 9*5\n",
    "weight = height + 10\n",
    "print(weight)"
   ]
  },
  {
   "cell_type": "code",
   "execution_count": 105,
   "id": "562d9d21-c1e9-4898-8e7f-b7e67771b91d",
   "metadata": {},
   "outputs": [
    {
     "data": {
      "text/plain": [
       "174"
      ]
     },
     "execution_count": 105,
     "metadata": {},
     "output_type": "execute_result"
    }
   ],
   "source": [
    "Height = 6\n",
    "Weight = 29\n",
    "Height*Weight"
   ]
  },
  {
   "cell_type": "code",
   "execution_count": 106,
   "id": "dcf3a24a-4644-4de5-b733-7a6f0fc29a5e",
   "metadata": {},
   "outputs": [
    {
     "data": {
      "text/plain": [
       "36.0"
      ]
     },
     "execution_count": 106,
     "metadata": {},
     "output_type": "execute_result"
    }
   ],
   "source": [
    "price = 12/4\n",
    "tax = 12\n",
    "price*tax"
   ]
  },
  {
   "cell_type": "code",
   "execution_count": 107,
   "id": "fe237beb-2a27-46da-b1a1-2167e009e4cf",
   "metadata": {},
   "outputs": [
    {
     "data": {
      "text/plain": [
       "'spam ego'"
      ]
     },
     "execution_count": 107,
     "metadata": {},
     "output_type": "execute_result"
    }
   ],
   "source": [
    "'spam ego' # single qoutes"
   ]
  },
  {
   "cell_type": "code",
   "execution_count": 108,
   "id": "0ebb6259-a7f7-4be4-a39e-4e21378c3c99",
   "metadata": {},
   "outputs": [
    {
     "data": {
      "text/plain": [
       "'i am a good boy'"
      ]
     },
     "execution_count": 108,
     "metadata": {},
     "output_type": "execute_result"
    }
   ],
   "source": [
    "\"i am a good boy\" # double qoutes"
   ]
  },
  {
   "cell_type": "code",
   "execution_count": 109,
   "id": "19738afc-74f2-45d0-a3b2-fc795eb6e274",
   "metadata": {},
   "outputs": [
    {
     "data": {
      "text/plain": [
       "\"doesn't\""
      ]
     },
     "execution_count": 109,
     "metadata": {},
     "output_type": "execute_result"
    }
   ],
   "source": [
    "'doesn\\'t' # use \\' escape the qoutes"
   ]
  },
  {
   "cell_type": "code",
   "execution_count": 110,
   "id": "171491a8-e22d-4b2f-963b-87bc9f751c47",
   "metadata": {},
   "outputs": [
    {
     "data": {
      "text/plain": [
       "\"doesn't\""
      ]
     },
     "execution_count": 110,
     "metadata": {},
     "output_type": "execute_result"
    }
   ],
   "source": [
    "\"doesn't\" #  use the double qoutes instead"
   ]
  },
  {
   "cell_type": "code",
   "execution_count": 111,
   "id": "ccd1b08b-41e3-41ae-b909-ba7c8e72b459",
   "metadata": {},
   "outputs": [
    {
     "name": "stdout",
     "output_type": "stream",
     "text": [
      "hello\n"
     ]
    }
   ],
   "source": [
    "s = \"hello\"\n",
    "print(s)"
   ]
  },
  {
   "cell_type": "code",
   "execution_count": 115,
   "id": "5a14d875-5c96-4647-87d3-41bd1b9912d2",
   "metadata": {},
   "outputs": [
    {
     "name": "stdout",
     "output_type": "stream",
     "text": [
      " hello  use  \n",
      " world\n"
     ]
    }
   ],
   "source": [
    "print(''' hello  use  \n",
    " world''')"
   ]
  },
  {
   "cell_type": "code",
   "execution_count": 155,
   "id": "cb8312c6-5be1-45b9-81f8-8c2399a9c597",
   "metadata": {},
   "outputs": [
    {
     "data": {
      "text/plain": [
       "'python'"
      ]
     },
     "execution_count": 155,
     "metadata": {},
     "output_type": "execute_result"
    }
   ],
   "source": [
    "n = 'py'\n",
    "n = 'thon'# variable is same but values is different  so add both varible \n",
    "'py'+ n"
   ]
  },
  {
   "cell_type": "code",
   "execution_count": 156,
   "id": "5e96d22d-4ddd-4660-894f-33cc0ac4527a",
   "metadata": {},
   "outputs": [
    {
     "data": {
      "text/plain": [
       "'ajayajayajayajayhari'"
      ]
     },
     "execution_count": 156,
     "metadata": {},
     "output_type": "execute_result"
    }
   ],
   "source": [
    "4*'ajay'+ 'hari'# 4 times 'ajay' followed by 'hari'"
   ]
  },
  {
   "cell_type": "code",
   "execution_count": 157,
   "id": "4342fb0c-2783-4de4-b788-48b8e8ed83ce",
   "metadata": {},
   "outputs": [
    {
     "data": {
      "text/plain": [
       "'a'"
      ]
     },
     "execution_count": 157,
     "metadata": {},
     "output_type": "execute_result"
    }
   ],
   "source": [
    "word = 'ajaykumar'# position of -9\n",
    "word[-9]"
   ]
  },
  {
   "cell_type": "code",
   "execution_count": 158,
   "id": "79396089-8011-43aa-b274-32d7e5399b32",
   "metadata": {},
   "outputs": [
    {
     "data": {
      "text/plain": [
       "'har'"
      ]
     },
     "execution_count": 158,
     "metadata": {},
     "output_type": "execute_result"
    }
   ],
   "source": [
    "word = 'hari babu'\n",
    "word[0:3]#character of (included) start position to end position (excluded)"
   ]
  },
  {
   "cell_type": "code",
   "execution_count": 159,
   "id": "b3704dac-7ebf-4a4d-bed0-55945ceab0fe",
   "metadata": {},
   "outputs": [
    {
     "data": {
      "text/plain": [
       "' babu'"
      ]
     },
     "execution_count": 159,
     "metadata": {},
     "output_type": "execute_result"
    }
   ],
   "source": [
    "word[4:]"
   ]
  },
  {
   "cell_type": "code",
   "execution_count": 160,
   "id": "c208a848-7b31-4d6c-8e7a-5d456a1af123",
   "metadata": {},
   "outputs": [
    {
     "data": {
      "text/plain": [
       "''"
      ]
     },
     "execution_count": 160,
     "metadata": {},
     "output_type": "execute_result"
    }
   ],
   "source": [
    "word[-2:-5]"
   ]
  },
  {
   "cell_type": "code",
   "execution_count": 161,
   "id": "d85edaa2-7437-4d72-a16d-14baf4f72ab5",
   "metadata": {},
   "outputs": [
    {
     "data": {
      "text/plain": [
       "'harri babu'"
      ]
     },
     "execution_count": 161,
     "metadata": {},
     "output_type": "execute_result"
    }
   ],
   "source": [
    "word[:3]+word[2:]"
   ]
  },
  {
   "cell_type": "code",
   "execution_count": 162,
   "id": "127800cb-82b9-4dcf-8e1e-1b50ac40c01f",
   "metadata": {},
   "outputs": [
    {
     "data": {
      "text/plain": [
       "'ari babu'"
      ]
     },
     "execution_count": 162,
     "metadata": {},
     "output_type": "execute_result"
    }
   ],
   "source": [
    "word[1:50]"
   ]
  },
  {
   "cell_type": "code",
   "execution_count": 163,
   "id": "79152250-cbc6-41ea-a2da-b59a8b8bcc81",
   "metadata": {},
   "outputs": [
    {
     "data": {
      "text/plain": [
       "'vhari babu'"
      ]
     },
     "execution_count": 163,
     "metadata": {},
     "output_type": "execute_result"
    }
   ],
   "source": [
    "'v'+word[0:]"
   ]
  },
  {
   "cell_type": "code",
   "execution_count": 164,
   "id": "80b6cc85-9c74-4c5d-b3ea-29e4f75df682",
   "metadata": {},
   "outputs": [
    {
     "data": {
      "text/plain": [
       "19"
      ]
     },
     "execution_count": 164,
     "metadata": {},
     "output_type": "execute_result"
    }
   ],
   "source": [
    "v = 'agreetouseassistant'\n",
    "len(v)"
   ]
  },
  {
   "cell_type": "code",
   "execution_count": 166,
   "id": "7312e5b5-1e2d-4e8f-90d9-c81203f5a3e5",
   "metadata": {},
   "outputs": [
    {
     "data": {
      "text/plain": [
       "3"
      ]
     },
     "execution_count": 166,
     "metadata": {},
     "output_type": "execute_result"
    }
   ],
   "source": [
    "l = [1,2,3,4,5]#index return an item\n",
    "l [2]"
   ]
  },
  {
   "cell_type": "code",
   "execution_count": 167,
   "id": "f7361faf-fe41-4847-94ac-2419d125a757",
   "metadata": {},
   "outputs": [
    {
     "data": {
      "text/plain": [
       "3"
      ]
     },
     "execution_count": 167,
     "metadata": {},
     "output_type": "execute_result"
    }
   ],
   "source": [
    "l[-3]"
   ]
  },
  {
   "cell_type": "code",
   "execution_count": 168,
   "id": "63683bd6-8716-4ee9-a780-7115fbd31629",
   "metadata": {},
   "outputs": [
    {
     "data": {
      "text/plain": [
       "[3, 4, 5]"
      ]
     },
     "execution_count": 168,
     "metadata": {},
     "output_type": "execute_result"
    }
   ],
   "source": [
    "l[-3:] # slicing return a new list"
   ]
  },
  {
   "cell_type": "code",
   "execution_count": 169,
   "id": "42668ad6-d08c-4d4f-8667-9f740cb3f623",
   "metadata": {},
   "outputs": [
    {
     "data": {
      "text/plain": [
       "[27]"
      ]
     },
     "execution_count": 169,
     "metadata": {},
     "output_type": "execute_result"
    }
   ],
   "source": [
    "cube  = [3**3]\n",
    "cube"
   ]
  },
  {
   "cell_type": "code",
   "execution_count": 170,
   "id": "378cc74e-667f-40dd-9b77-bc59333e10bd",
   "metadata": {},
   "outputs": [
    {
     "data": {
      "text/plain": [
       "[1, 8, 12, 16, 20, 24, 28]"
      ]
     },
     "execution_count": 170,
     "metadata": {},
     "output_type": "execute_result"
    }
   ],
   "source": [
    "b = [1,8,12,16,20,24]\n",
    "b.append(28) # add the 28 in list an iteam\n",
    "b"
   ]
  },
  {
   "cell_type": "code",
   "execution_count": 171,
   "id": "adfda806-ed2f-4502-94b1-0ab69d993021",
   "metadata": {},
   "outputs": [
    {
     "data": {
      "text/plain": [
       "[1, 8, 12, 10, 16, 20, 24, 28]"
      ]
     },
     "execution_count": 171,
     "metadata": {},
     "output_type": "execute_result"
    }
   ],
   "source": [
    "b.insert(3,10) # add an item in particlar position\n",
    "b"
   ]
  },
  {
   "cell_type": "code",
   "execution_count": 172,
   "id": "59a78325-8cc7-4c3b-8bf1-2e0f44c583b6",
   "metadata": {},
   "outputs": [
    {
     "data": {
      "text/plain": [
       "[1, 8, 13, 14, 15, 20, 24, 28]"
      ]
     },
     "execution_count": 172,
     "metadata": {},
     "output_type": "execute_result"
    }
   ],
   "source": [
    "b [2:5] = [13,14,15] # replace some values of an item\n",
    "b"
   ]
  },
  {
   "cell_type": "code",
   "execution_count": 173,
   "id": "a538cf5f-22c1-4287-b584-8d7bd06cc908",
   "metadata": {},
   "outputs": [
    {
     "data": {
      "text/plain": [
       "[1, 8, 20, 24, 28]"
      ]
     },
     "execution_count": 173,
     "metadata": {},
     "output_type": "execute_result"
    }
   ],
   "source": [
    "b [2:5] = []\n",
    "b           #  now remove them"
   ]
  },
  {
   "cell_type": "code",
   "execution_count": 174,
   "id": "fbbd7fda-e568-4880-bd6c-33673cf7d6b3",
   "metadata": {},
   "outputs": [
    {
     "data": {
      "text/plain": [
       "[1, 8, 20, 24, 28]"
      ]
     },
     "execution_count": 174,
     "metadata": {},
     "output_type": "execute_result"
    }
   ],
   "source": [
    "b [:]\n",
    "b\n"
   ]
  },
  {
   "cell_type": "code",
   "execution_count": 176,
   "id": "cec09c2d-d9a4-41bd-bd05-e5b17825cca7",
   "metadata": {},
   "outputs": [
    {
     "data": {
      "text/plain": [
       "5"
      ]
     },
     "execution_count": 176,
     "metadata": {},
     "output_type": "execute_result"
    }
   ],
   "source": [
    "len(b) # use 'len' find length of b"
   ]
  },
  {
   "cell_type": "code",
   "execution_count": null,
   "id": "ac3eb414-2c76-4660-b71d-0eb7b7ff2894",
   "metadata": {},
   "outputs": [],
   "source": []
  },
  {
   "cell_type": "code",
   "execution_count": null,
   "id": "d3d3667f-88fa-420b-a208-379f46cf6ffa",
   "metadata": {},
   "outputs": [],
   "source": []
  },
  {
   "cell_type": "code",
   "execution_count": null,
   "id": "41ff65ba-4edb-4934-acdd-e4c285c43f08",
   "metadata": {},
   "outputs": [],
   "source": []
  }
 ],
 "metadata": {
  "kernelspec": {
   "display_name": "Python [conda env:base] *",
   "language": "python",
   "name": "conda-base-py"
  },
  "language_info": {
   "codemirror_mode": {
    "name": "ipython",
    "version": 3
   },
   "file_extension": ".py",
   "mimetype": "text/x-python",
   "name": "python",
   "nbconvert_exporter": "python",
   "pygments_lexer": "ipython3",
   "version": "3.12.7"
  }
 },
 "nbformat": 4,
 "nbformat_minor": 5
}
